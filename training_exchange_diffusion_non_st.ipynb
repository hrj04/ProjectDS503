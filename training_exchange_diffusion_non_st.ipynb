{
 "cells": [
  {
   "cell_type": "code",
   "execution_count": null,
   "id": "24d8f8fa",
   "metadata": {
    "execution": {
     "iopub.execute_input": "2024-05-30T19:14:43.082577Z",
     "iopub.status.busy": "2024-05-30T19:14:43.082282Z",
     "iopub.status.idle": "2024-05-30T19:14:44.090340Z",
     "shell.execute_reply": "2024-05-30T19:14:44.090075Z"
    },
    "papermill": {
     "duration": 1.011168,
     "end_time": "2024-05-30T19:14:44.091236",
     "exception": false,
     "start_time": "2024-05-30T19:14:43.080068",
     "status": "completed"
    },
    "tags": []
   },
   "outputs": [],
   "source": [
    "import torch\n",
    "import warnings\n",
    "\n",
    "from models.solver import Trainer\n",
    "from data.dataloader import dataloader_info\n",
    "from utils.utils import load_yaml_config, instantiate_from_config\n",
    "\n",
    "warnings.filterwarnings(\"ignore\")\n",
    "device = \"cuda\" if torch.cuda.is_available() else \"cpu\""
   ]
  },
  {
   "cell_type": "code",
   "execution_count": null,
   "id": "87374ea0",
   "metadata": {
    "execution": {
     "iopub.execute_input": "2024-05-30T19:14:44.100876Z",
     "iopub.status.busy": "2024-05-30T19:14:44.100719Z",
     "iopub.status.idle": "2024-05-30T19:14:44.262895Z",
     "shell.execute_reply": "2024-05-30T19:14:44.262554Z"
    },
    "papermill": {
     "duration": 0.171743,
     "end_time": "2024-05-30T19:14:44.263771",
     "exception": false,
     "start_time": "2024-05-30T19:14:44.092028",
     "status": "completed"
    },
    "tags": []
   },
   "outputs": [],
   "source": [
    "# Load configurations\n",
    "configs = load_yaml_config(\"configs/exp1_exchange_non_st.yaml\")\n",
    "\n",
    "# Initialize Diffusion_TS Model\n",
    "diffusion = instantiate_from_config(configs['model']).to(device)"
   ]
  },
  {
   "cell_type": "code",
   "execution_count": null,
   "id": "fa13ef65",
   "metadata": {
    "execution": {
     "iopub.execute_input": "2024-05-30T19:14:44.273384Z",
     "iopub.status.busy": "2024-05-30T19:14:44.273259Z",
     "iopub.status.idle": "2024-05-30T19:14:44.555654Z",
     "shell.execute_reply": "2024-05-30T19:14:44.555366Z"
    },
    "papermill": {
     "duration": 0.292015,
     "end_time": "2024-05-30T19:14:44.556560",
     "exception": false,
     "start_time": "2024-05-30T19:14:44.264545",
     "status": "completed"
    },
    "tags": []
   },
   "outputs": [],
   "source": [
    "# load train dataloader\n",
    "dl_info_train = dataloader_info(configs, train=True)\n",
    "dl_train = dl_info_train[\"dataloader\"]\n",
    "ds_train = dl_info_train[\"dataset\"]"
   ]
  },
  {
   "cell_type": "code",
   "execution_count": null,
   "id": "15334e7e",
   "metadata": {
    "execution": {
     "iopub.execute_input": "2024-05-30T19:14:44.561111Z",
     "iopub.status.busy": "2024-05-30T19:14:44.560912Z",
     "iopub.status.idle": "2024-05-30T19:14:44.591665Z",
     "shell.execute_reply": "2024-05-30T19:14:44.591217Z"
    },
    "papermill": {
     "duration": 0.03501,
     "end_time": "2024-05-30T19:14:44.592453",
     "exception": false,
     "start_time": "2024-05-30T19:14:44.557443",
     "status": "completed"
    },
    "tags": []
   },
   "outputs": [],
   "source": [
    "# load test dataloader\n",
    "dl_info_test = dataloader_info(configs, train=False)\n",
    "dl_test = dl_info_test[\"dataloader\"]\n",
    "ds_test = dl_info_test[\"dataset\"]"
   ]
  },
  {
   "cell_type": "code",
   "execution_count": null,
   "id": "d85f4099",
   "metadata": {
    "execution": {
     "iopub.execute_input": "2024-05-30T19:14:44.594541Z",
     "iopub.status.busy": "2024-05-30T19:14:44.594373Z",
     "iopub.status.idle": "2024-05-30T19:25:05.404700Z",
     "shell.execute_reply": "2024-05-30T19:25:05.404455Z"
    },
    "papermill": {
     "duration": 620.812027,
     "end_time": "2024-05-30T19:25:05.405235",
     "exception": false,
     "start_time": "2024-05-30T19:14:44.593208",
     "status": "completed"
    },
    "tags": []
   },
   "outputs": [],
   "source": [
    "# Train DiffusionTS\n",
    "\n",
    "# load_model_path = \"check_points/experiments1_stock_stationary/DiffusionTS_5000.pth\"\n",
    "# diffusion.load_state_dict(torch.load(load_model_path))\n",
    "trainer = Trainer(config_solver=configs[\"solver\"], model=diffusion, dataloader=dl_train)\n",
    "trainer.train()"
   ]
  },
  {
   "cell_type": "code",
   "execution_count": null,
   "id": "90ef221d",
   "metadata": {
    "papermill": {
     "duration": 0.473642,
     "end_time": "2024-05-30T19:25:06.353962",
     "exception": false,
     "start_time": "2024-05-30T19:25:05.880320",
     "status": "completed"
    },
    "tags": []
   },
   "outputs": [],
   "source": []
  }
 ],
 "metadata": {
  "kernelspec": {
   "display_name": ".venv",
   "language": "python",
   "name": "python3"
  },
  "language_info": {
   "codemirror_mode": {
    "name": "ipython",
    "version": 3
   },
   "file_extension": ".py",
   "mimetype": "text/x-python",
   "name": "python",
   "nbconvert_exporter": "python",
   "pygments_lexer": "ipython3",
   "version": "3.12.1"
  },
  "papermill": {
   "default_parameters": {},
   "duration": 625.005685,
   "end_time": "2024-05-30T19:25:07.437814",
   "environment_variables": {},
   "exception": null,
   "input_path": "training_exchange_diffusion_non_st.ipynb",
   "output_path": "training_exchange_diffusion_non_st.ipynb",
   "parameters": {},
   "start_time": "2024-05-30T19:14:42.432129",
   "version": "2.6.0"
  }
 },
 "nbformat": 4,
 "nbformat_minor": 5
}
