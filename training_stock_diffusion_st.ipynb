{
 "cells": [
  {
   "cell_type": "code",
   "execution_count": null,
   "id": "bbc482ac",
   "metadata": {
    "execution": {
     "iopub.execute_input": "2024-05-30T19:45:37.153250Z",
     "iopub.status.busy": "2024-05-30T19:45:37.152670Z",
     "iopub.status.idle": "2024-05-30T19:45:38.106642Z",
     "shell.execute_reply": "2024-05-30T19:45:38.106274Z"
    },
    "papermill": {
     "duration": 0.961041,
     "end_time": "2024-05-30T19:45:38.107492",
     "exception": false,
     "start_time": "2024-05-30T19:45:37.146451",
     "status": "completed"
    },
    "tags": []
   },
   "outputs": [],
   "source": [
    "import torch\n",
    "import warnings\n",
    "\n",
    "from models.solver import Trainer\n",
    "from data.dataloader import dataloader_info\n",
    "from utils.utils import load_yaml_config, instantiate_from_config\n",
    "\n",
    "warnings.filterwarnings(\"ignore\")\n",
    "device = \"cuda\" if torch.cuda.is_available() else \"cpu\""
   ]
  },
  {
   "cell_type": "code",
   "execution_count": null,
   "id": "328a5a66",
   "metadata": {
    "execution": {
     "iopub.execute_input": "2024-05-30T19:45:38.117556Z",
     "iopub.status.busy": "2024-05-30T19:45:38.117293Z",
     "iopub.status.idle": "2024-05-30T19:45:38.269136Z",
     "shell.execute_reply": "2024-05-30T19:45:38.268806Z"
    },
    "papermill": {
     "duration": 0.161732,
     "end_time": "2024-05-30T19:45:38.270035",
     "exception": false,
     "start_time": "2024-05-30T19:45:38.108303",
     "status": "completed"
    },
    "tags": []
   },
   "outputs": [],
   "source": [
    "# Load configurations\n",
    "configs = load_yaml_config(\"configs/exp1_stock_st.yaml\")\n",
    "\n",
    "# Initialize Diffusion_TS Model\n",
    "diffusion = instantiate_from_config(configs['model']).to(device)"
   ]
  },
  {
   "cell_type": "code",
   "execution_count": null,
   "id": "d9d87dc5",
   "metadata": {
    "execution": {
     "iopub.execute_input": "2024-05-30T19:45:38.279522Z",
     "iopub.status.busy": "2024-05-30T19:45:38.279376Z",
     "iopub.status.idle": "2024-05-30T19:45:41.913990Z",
     "shell.execute_reply": "2024-05-30T19:45:41.913285Z"
    },
    "papermill": {
     "duration": 3.644303,
     "end_time": "2024-05-30T19:45:41.915109",
     "exception": false,
     "start_time": "2024-05-30T19:45:38.270806",
     "status": "completed"
    },
    "tags": []
   },
   "outputs": [],
   "source": [
    "# load train dataloader\n",
    "dl_info_train = dataloader_info(configs, train=True)\n",
    "dl_train = dl_info_train[\"dataloader\"]\n",
    "ds_train = dl_info_train[\"dataset\"]"
   ]
  },
  {
   "cell_type": "code",
   "execution_count": null,
   "id": "f080715d",
   "metadata": {
    "execution": {
     "iopub.execute_input": "2024-05-30T19:45:41.917046Z",
     "iopub.status.busy": "2024-05-30T19:45:41.916937Z",
     "iopub.status.idle": "2024-05-30T19:45:45.227940Z",
     "shell.execute_reply": "2024-05-30T19:45:45.227673Z"
    },
    "papermill": {
     "duration": 3.312927,
     "end_time": "2024-05-30T19:45:45.228771",
     "exception": false,
     "start_time": "2024-05-30T19:45:41.915844",
     "status": "completed"
    },
    "tags": []
   },
   "outputs": [],
   "source": [
    "# load test dataloader\n",
    "dl_info_test = dataloader_info(configs, train=False)\n",
    "dl_test = dl_info_test[\"dataloader\"]\n",
    "ds_test = dl_info_test[\"dataset\"]"
   ]
  },
  {
   "cell_type": "code",
   "execution_count": null,
   "id": "efe692bb",
   "metadata": {
    "execution": {
     "iopub.execute_input": "2024-05-30T19:45:45.234886Z",
     "iopub.status.busy": "2024-05-30T19:45:45.234700Z",
     "iopub.status.idle": "2024-05-30T19:55:49.966069Z",
     "shell.execute_reply": "2024-05-30T19:55:49.965842Z"
    },
    "papermill": {
     "duration": 604.737126,
     "end_time": "2024-05-30T19:55:49.966757",
     "exception": false,
     "start_time": "2024-05-30T19:45:45.229631",
     "status": "completed"
    },
    "tags": []
   },
   "outputs": [],
   "source": [
    "# Train DiffusionTS\n",
    "\n",
    "trainer = Trainer(config_solver=configs[\"solver\"], model=diffusion, dataloader=dl_train)\n",
    "trainer.train()"
   ]
  },
  {
   "cell_type": "code",
   "execution_count": null,
   "id": "ab89729f",
   "metadata": {
    "papermill": {
     "duration": 0.470277,
     "end_time": "2024-05-30T19:55:50.905846",
     "exception": false,
     "start_time": "2024-05-30T19:55:50.435569",
     "status": "completed"
    },
    "tags": []
   },
   "outputs": [],
   "source": []
  }
 ],
 "metadata": {
  "kernelspec": {
   "display_name": ".venv",
   "language": "python",
   "name": "python3"
  },
  "language_info": {
   "codemirror_mode": {
    "name": "ipython",
    "version": 3
   },
   "file_extension": ".py",
   "mimetype": "text/x-python",
   "name": "python",
   "nbconvert_exporter": "python",
   "pygments_lexer": "ipython3",
   "version": "3.12.1"
  },
  "papermill": {
   "default_parameters": {},
   "duration": 615.492744,
   "end_time": "2024-05-30T19:55:51.990327",
   "environment_variables": {},
   "exception": null,
   "input_path": "training_stock_diffusion_st.ipynb",
   "output_path": "training_stock_diffusion_st.ipynb",
   "parameters": {},
   "start_time": "2024-05-30T19:45:36.497583",
   "version": "2.6.0"
  }
 },
 "nbformat": 4,
 "nbformat_minor": 5
}
