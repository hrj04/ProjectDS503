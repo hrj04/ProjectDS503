{
 "cells": [
  {
   "cell_type": "code",
   "execution_count": null,
   "id": "a3c2dc2f",
   "metadata": {
    "execution": {
     "iopub.execute_input": "2024-05-30T19:25:09.265074Z",
     "iopub.status.busy": "2024-05-30T19:25:09.264938Z",
     "iopub.status.idle": "2024-05-30T19:25:10.258343Z",
     "shell.execute_reply": "2024-05-30T19:25:10.258065Z"
    },
    "papermill": {
     "duration": 0.996545,
     "end_time": "2024-05-30T19:25:10.259282",
     "exception": false,
     "start_time": "2024-05-30T19:25:09.262737",
     "status": "completed"
    },
    "tags": []
   },
   "outputs": [],
   "source": [
    "import torch\n",
    "import warnings\n",
    "\n",
    "from models.solver import Trainer\n",
    "from data.dataloader import dataloader_info\n",
    "from utils.utils import load_yaml_config, instantiate_from_config\n",
    "\n",
    "warnings.filterwarnings(\"ignore\")\n",
    "device = \"cuda\" if torch.cuda.is_available() else \"cpu\""
   ]
  },
  {
   "cell_type": "code",
   "execution_count": null,
   "id": "1ef6cc94",
   "metadata": {
    "execution": {
     "iopub.execute_input": "2024-05-30T19:25:10.268838Z",
     "iopub.status.busy": "2024-05-30T19:25:10.268672Z",
     "iopub.status.idle": "2024-05-30T19:25:10.423779Z",
     "shell.execute_reply": "2024-05-30T19:25:10.423283Z"
    },
    "papermill": {
     "duration": 0.164645,
     "end_time": "2024-05-30T19:25:10.424723",
     "exception": false,
     "start_time": "2024-05-30T19:25:10.260078",
     "status": "completed"
    },
    "tags": []
   },
   "outputs": [],
   "source": [
    "# Load configurations\n",
    "configs = load_yaml_config(\"configs/exp1_exchange_st.yaml\")\n",
    "\n",
    "# Initialize Diffusion_TS Model\n",
    "diffusion = instantiate_from_config(configs['model']).to(device)"
   ]
  },
  {
   "cell_type": "code",
   "execution_count": null,
   "id": "18aebb5d",
   "metadata": {
    "execution": {
     "iopub.execute_input": "2024-05-30T19:25:10.434386Z",
     "iopub.status.busy": "2024-05-30T19:25:10.434248Z",
     "iopub.status.idle": "2024-05-30T19:25:10.728605Z",
     "shell.execute_reply": "2024-05-30T19:25:10.728316Z"
    },
    "papermill": {
     "duration": 0.304278,
     "end_time": "2024-05-30T19:25:10.729777",
     "exception": false,
     "start_time": "2024-05-30T19:25:10.425499",
     "status": "completed"
    },
    "tags": []
   },
   "outputs": [],
   "source": [
    "# load train dataloader\n",
    "dl_info_train = dataloader_info(configs, train=True)\n",
    "dl_train = dl_info_train[\"dataloader\"]\n",
    "ds_train = dl_info_train[\"dataset\"]"
   ]
  },
  {
   "cell_type": "code",
   "execution_count": null,
   "id": "47be9aa2",
   "metadata": {
    "execution": {
     "iopub.execute_input": "2024-05-30T19:25:10.733615Z",
     "iopub.status.busy": "2024-05-30T19:25:10.733484Z",
     "iopub.status.idle": "2024-05-30T19:25:10.762218Z",
     "shell.execute_reply": "2024-05-30T19:25:10.761953Z"
    },
    "papermill": {
     "duration": 0.032298,
     "end_time": "2024-05-30T19:25:10.763317",
     "exception": false,
     "start_time": "2024-05-30T19:25:10.731019",
     "status": "completed"
    },
    "tags": []
   },
   "outputs": [],
   "source": [
    "# load test dataloader\n",
    "dl_info_test = dataloader_info(configs, train=False)\n",
    "dl_test = dl_info_test[\"dataloader\"]\n",
    "ds_test = dl_info_test[\"dataset\"]"
   ]
  },
  {
   "cell_type": "code",
   "execution_count": null,
   "id": "30d54836",
   "metadata": {
    "execution": {
     "iopub.execute_input": "2024-05-30T19:25:10.766193Z",
     "iopub.status.busy": "2024-05-30T19:25:10.766064Z",
     "iopub.status.idle": "2024-05-30T19:35:16.827797Z",
     "shell.execute_reply": "2024-05-30T19:35:16.827561Z"
    },
    "papermill": {
     "duration": 606.063819,
     "end_time": "2024-05-30T19:35:16.828335",
     "exception": false,
     "start_time": "2024-05-30T19:25:10.764516",
     "status": "completed"
    },
    "tags": []
   },
   "outputs": [],
   "source": [
    "# Train DiffusionTS\n",
    "\n",
    "trainer = Trainer(config_solver=configs[\"solver\"], model=diffusion, dataloader=dl_train)\n",
    "trainer.train()"
   ]
  },
  {
   "cell_type": "code",
   "execution_count": null,
   "id": "a574dbcd",
   "metadata": {
    "papermill": {
     "duration": 0.459821,
     "end_time": "2024-05-30T19:35:17.758493",
     "exception": false,
     "start_time": "2024-05-30T19:35:17.298672",
     "status": "completed"
    },
    "tags": []
   },
   "outputs": [],
   "source": []
  }
 ],
 "metadata": {
  "kernelspec": {
   "display_name": ".venv",
   "language": "python",
   "name": "python3"
  },
  "language_info": {
   "codemirror_mode": {
    "name": "ipython",
    "version": 3
   },
   "file_extension": ".py",
   "mimetype": "text/x-python",
   "name": "python",
   "nbconvert_exporter": "python",
   "pygments_lexer": "ipython3",
   "version": "3.12.1"
  },
  "papermill": {
   "default_parameters": {},
   "duration": 610.228121,
   "end_time": "2024-05-30T19:35:18.843326",
   "environment_variables": {},
   "exception": null,
   "input_path": "training_exchange_diffusion_st.ipynb",
   "output_path": "training_exchange_diffusion_st.ipynb",
   "parameters": {},
   "start_time": "2024-05-30T19:25:08.615205",
   "version": "2.6.0"
  }
 },
 "nbformat": 4,
 "nbformat_minor": 5
}
