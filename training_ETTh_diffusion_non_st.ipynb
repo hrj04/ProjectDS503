{
 "cells": [
  {
   "cell_type": "code",
   "execution_count": null,
   "id": "923f4443",
   "metadata": {
    "execution": {
     "iopub.execute_input": "2024-05-30T19:03:06.676221Z",
     "iopub.status.busy": "2024-05-30T19:03:06.676074Z",
     "iopub.status.idle": "2024-05-30T19:03:07.670476Z",
     "shell.execute_reply": "2024-05-30T19:03:07.670093Z"
    },
    "papermill": {
     "duration": 0.997275,
     "end_time": "2024-05-30T19:03:07.671403",
     "exception": false,
     "start_time": "2024-05-30T19:03:06.674128",
     "status": "completed"
    },
    "tags": []
   },
   "outputs": [],
   "source": [
    "import torch\n",
    "import warnings\n",
    "\n",
    "from models.solver import Trainer\n",
    "from data.dataloader import dataloader_info\n",
    "from utils.utils import load_yaml_config, instantiate_from_config\n",
    "\n",
    "warnings.filterwarnings(\"ignore\")\n",
    "device = \"cuda\" if torch.cuda.is_available() else \"cpu\""
   ]
  },
  {
   "cell_type": "code",
   "execution_count": null,
   "id": "38eb6d44",
   "metadata": {
    "execution": {
     "iopub.execute_input": "2024-05-30T19:03:07.681044Z",
     "iopub.status.busy": "2024-05-30T19:03:07.680863Z",
     "iopub.status.idle": "2024-05-30T19:03:07.826536Z",
     "shell.execute_reply": "2024-05-30T19:03:07.826045Z"
    },
    "papermill": {
     "duration": 0.155201,
     "end_time": "2024-05-30T19:03:07.827432",
     "exception": false,
     "start_time": "2024-05-30T19:03:07.672231",
     "status": "completed"
    },
    "tags": []
   },
   "outputs": [],
   "source": [
    "# Load configurations\n",
    "configs = load_yaml_config(\"configs/exp1_ETTh_non_st.yaml\")\n",
    "\n",
    "# Initialize Diffusion_TS Model\n",
    "diffusion = instantiate_from_config(configs['model']).to(device)"
   ]
  },
  {
   "cell_type": "code",
   "execution_count": null,
   "id": "1bd40c19",
   "metadata": {
    "execution": {
     "iopub.execute_input": "2024-05-30T19:03:07.836933Z",
     "iopub.status.busy": "2024-05-30T19:03:07.836798Z",
     "iopub.status.idle": "2024-05-30T19:03:08.168716Z",
     "shell.execute_reply": "2024-05-30T19:03:08.168308Z"
    },
    "papermill": {
     "duration": 0.341578,
     "end_time": "2024-05-30T19:03:08.169800",
     "exception": false,
     "start_time": "2024-05-30T19:03:07.828222",
     "status": "completed"
    },
    "tags": []
   },
   "outputs": [],
   "source": [
    "# load train dataloader\n",
    "dl_info_train = dataloader_info(configs, train=True)\n",
    "dl_train = dl_info_train[\"dataloader\"]\n",
    "ds_train = dl_info_train[\"dataset\"]"
   ]
  },
  {
   "cell_type": "code",
   "execution_count": null,
   "id": "0fcaf7bd",
   "metadata": {
    "execution": {
     "iopub.execute_input": "2024-05-30T19:03:08.173427Z",
     "iopub.status.busy": "2024-05-30T19:03:08.173305Z",
     "iopub.status.idle": "2024-05-30T19:03:08.230158Z",
     "shell.execute_reply": "2024-05-30T19:03:08.229886Z"
    },
    "papermill": {
     "duration": 0.060411,
     "end_time": "2024-05-30T19:03:08.231252",
     "exception": false,
     "start_time": "2024-05-30T19:03:08.170841",
     "status": "completed"
    },
    "tags": []
   },
   "outputs": [],
   "source": [
    "# load test dataloader\n",
    "dl_info_test = dataloader_info(configs, train=False)\n",
    "dl_test = dl_info_test[\"dataloader\"]\n",
    "ds_test = dl_info_test[\"dataset\"]"
   ]
  },
  {
   "cell_type": "code",
   "execution_count": null,
   "id": "0d0a9c6b",
   "metadata": {
    "execution": {
     "iopub.execute_input": "2024-05-30T19:03:08.233990Z",
     "iopub.status.busy": "2024-05-30T19:03:08.233856Z",
     "iopub.status.idle": "2024-05-30T19:08:50.107001Z",
     "shell.execute_reply": "2024-05-30T19:08:50.106769Z"
    },
    "papermill": {
     "duration": 341.875178,
     "end_time": "2024-05-30T19:08:50.107561",
     "exception": false,
     "start_time": "2024-05-30T19:03:08.232383",
     "status": "completed"
    },
    "tags": []
   },
   "outputs": [],
   "source": [
    "# Train DiffusionTS\n",
    "\n",
    "trainer = Trainer(config_solver=configs[\"solver\"], model=diffusion, dataloader=dl_train)\n",
    "trainer.train()"
   ]
  },
  {
   "cell_type": "code",
   "execution_count": null,
   "id": "8b3b9ae4",
   "metadata": {
    "papermill": {
     "duration": 0.43796,
     "end_time": "2024-05-30T19:08:50.978736",
     "exception": false,
     "start_time": "2024-05-30T19:08:50.540776",
     "status": "completed"
    },
    "tags": []
   },
   "outputs": [],
   "source": []
  }
 ],
 "metadata": {
  "kernelspec": {
   "display_name": ".venv",
   "language": "python",
   "name": "python3"
  },
  "language_info": {
   "codemirror_mode": {
    "name": "ipython",
    "version": 3
   },
   "file_extension": ".py",
   "mimetype": "text/x-python",
   "name": "python",
   "nbconvert_exporter": "python",
   "pygments_lexer": "ipython3",
   "version": "3.12.1"
  },
  "papermill": {
   "default_parameters": {},
   "duration": 345.989832,
   "end_time": "2024-05-30T19:08:52.036865",
   "environment_variables": {},
   "exception": null,
   "input_path": "training_ETTh_diffusion_non_st.ipynb",
   "output_path": "training_ETTh_diffusion_non_st.ipynb",
   "parameters": {},
   "start_time": "2024-05-30T19:03:06.047033",
   "version": "2.6.0"
  }
 },
 "nbformat": 4,
 "nbformat_minor": 5
}
