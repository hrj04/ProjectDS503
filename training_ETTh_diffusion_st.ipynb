{
 "cells": [
  {
   "cell_type": "code",
   "execution_count": null,
   "id": "1be94740",
   "metadata": {
    "execution": {
     "iopub.execute_input": "2024-05-30T19:08:53.779604Z",
     "iopub.status.busy": "2024-05-30T19:08:53.778891Z",
     "iopub.status.idle": "2024-05-30T19:08:54.754474Z",
     "shell.execute_reply": "2024-05-30T19:08:54.754060Z"
    },
    "papermill": {
     "duration": 0.982965,
     "end_time": "2024-05-30T19:08:54.755402",
     "exception": false,
     "start_time": "2024-05-30T19:08:53.772437",
     "status": "completed"
    },
    "tags": []
   },
   "outputs": [],
   "source": [
    "import torch\n",
    "import warnings\n",
    "\n",
    "from models.solver import Trainer\n",
    "from data.dataloader import dataloader_info\n",
    "from utils.utils import load_yaml_config, instantiate_from_config\n",
    "\n",
    "warnings.filterwarnings(\"ignore\")\n",
    "device = \"cuda\" if torch.cuda.is_available() else \"cpu\""
   ]
  },
  {
   "cell_type": "code",
   "execution_count": null,
   "id": "07153198",
   "metadata": {
    "execution": {
     "iopub.execute_input": "2024-05-30T19:08:54.765124Z",
     "iopub.status.busy": "2024-05-30T19:08:54.764943Z",
     "iopub.status.idle": "2024-05-30T19:08:54.897722Z",
     "shell.execute_reply": "2024-05-30T19:08:54.897371Z"
    },
    "papermill": {
     "duration": 0.142386,
     "end_time": "2024-05-30T19:08:54.898603",
     "exception": false,
     "start_time": "2024-05-30T19:08:54.756217",
     "status": "completed"
    },
    "tags": []
   },
   "outputs": [],
   "source": [
    "# Load configurations\n",
    "configs = load_yaml_config(\"configs/exp1_ETTh_st.yaml\")\n",
    "\n",
    "# Initialize Diffusion_TS Model\n",
    "diffusion = instantiate_from_config(configs['model']).to(device)"
   ]
  },
  {
   "cell_type": "code",
   "execution_count": null,
   "id": "60ad6d64",
   "metadata": {
    "execution": {
     "iopub.execute_input": "2024-05-30T19:08:54.908220Z",
     "iopub.status.busy": "2024-05-30T19:08:54.908093Z",
     "iopub.status.idle": "2024-05-30T19:08:55.239152Z",
     "shell.execute_reply": "2024-05-30T19:08:55.238798Z"
    },
    "papermill": {
     "duration": 0.34071,
     "end_time": "2024-05-30T19:08:55.240079",
     "exception": false,
     "start_time": "2024-05-30T19:08:54.899369",
     "status": "completed"
    },
    "tags": []
   },
   "outputs": [],
   "source": [
    "# load train dataloader\n",
    "dl_info_train = dataloader_info(configs, train=True)\n",
    "dl_train = dl_info_train[\"dataloader\"]\n",
    "ds_train = dl_info_train[\"dataset\"]"
   ]
  },
  {
   "cell_type": "code",
   "execution_count": null,
   "id": "6beda008",
   "metadata": {
    "execution": {
     "iopub.execute_input": "2024-05-30T19:08:55.242347Z",
     "iopub.status.busy": "2024-05-30T19:08:55.242209Z",
     "iopub.status.idle": "2024-05-30T19:08:55.297202Z",
     "shell.execute_reply": "2024-05-30T19:08:55.296777Z"
    },
    "papermill": {
     "duration": 0.057544,
     "end_time": "2024-05-30T19:08:55.298350",
     "exception": false,
     "start_time": "2024-05-30T19:08:55.240806",
     "status": "completed"
    },
    "tags": []
   },
   "outputs": [],
   "source": [
    "# load test dataloader\n",
    "dl_info_test = dataloader_info(configs, train=False)\n",
    "dl_test = dl_info_test[\"dataloader\"]\n",
    "ds_test = dl_info_test[\"dataset\"]"
   ]
  },
  {
   "cell_type": "code",
   "execution_count": null,
   "id": "99b32ad4",
   "metadata": {
    "execution": {
     "iopub.execute_input": "2024-05-30T19:08:55.300307Z",
     "iopub.status.busy": "2024-05-30T19:08:55.300147Z",
     "iopub.status.idle": "2024-05-30T19:14:39.394130Z",
     "shell.execute_reply": "2024-05-30T19:14:39.393893Z"
    },
    "papermill": {
     "duration": 344.095659,
     "end_time": "2024-05-30T19:14:39.394728",
     "exception": false,
     "start_time": "2024-05-30T19:08:55.299069",
     "status": "completed"
    },
    "tags": []
   },
   "outputs": [],
   "source": [
    "# Train DiffusionTS\n",
    "trainer = Trainer(config_solver=configs[\"solver\"], model=diffusion, dataloader=dl_train)\n",
    "trainer.train()"
   ]
  },
  {
   "cell_type": "code",
   "execution_count": null,
   "id": "1f21657f",
   "metadata": {
    "papermill": {
     "duration": 0.432429,
     "end_time": "2024-05-30T19:14:40.270039",
     "exception": false,
     "start_time": "2024-05-30T19:14:39.837610",
     "status": "completed"
    },
    "tags": []
   },
   "outputs": [],
   "source": []
  }
 ],
 "metadata": {
  "kernelspec": {
   "display_name": ".venv",
   "language": "python",
   "name": "python3"
  },
  "language_info": {
   "codemirror_mode": {
    "name": "ipython",
    "version": 3
   },
   "file_extension": ".py",
   "mimetype": "text/x-python",
   "name": "python",
   "nbconvert_exporter": "python",
   "pygments_lexer": "ipython3",
   "version": "3.12.1"
  },
  "papermill": {
   "default_parameters": {},
   "duration": 348.192952,
   "end_time": "2024-05-30T19:14:41.320710",
   "environment_variables": {},
   "exception": null,
   "input_path": "training_ETTh_diffusion_st.ipynb",
   "output_path": "training_ETTh_diffusion_st.ipynb",
   "parameters": {},
   "start_time": "2024-05-30T19:08:53.127758",
   "version": "2.6.0"
  }
 },
 "nbformat": 4,
 "nbformat_minor": 5
}
