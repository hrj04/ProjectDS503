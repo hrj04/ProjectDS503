{
 "cells": [
  {
   "cell_type": "code",
   "execution_count": null,
   "metadata": {},
   "outputs": [],
   "source": [
    "import FinanceDataReader as fdr\n",
    "import matplotlib.pyplot as plt\n",
    "import numpy as np\n",
    "import seaborn as sns\n",
    "import torch\n",
    "\n",
    "from einops import reduce\n"
   ]
  },
  {
   "cell_type": "code",
   "execution_count": null,
   "metadata": {},
   "outputs": [],
   "source": [
    "stock_df = fdr.DataReader(\"AAPL, MSFT, NVDA, AMZN, COST\", \"20000101\", \"20231231\")"
   ]
  },
  {
   "cell_type": "code",
   "execution_count": null,
   "metadata": {},
   "outputs": [],
   "source": [
    "plt.plot(stock_df.to_numpy()[:,0])\n",
    "plt.title(\"Non-Stationary Time-sereis\")\n"
   ]
  },
  {
   "cell_type": "code",
   "execution_count": null,
   "metadata": {},
   "outputs": [],
   "source": [
    "period = int(len(stock_df)/5)\n",
    "periodic_data = {}\n",
    "for i in range(5):\n",
    "    periodic_data[f\"p_{i+1}\"] = stock_df.iloc[i*period:(i+1)*period, 0]\n"
   ]
  },
  {
   "cell_type": "code",
   "execution_count": null,
   "metadata": {},
   "outputs": [],
   "source": [
    "for k, v in periodic_data.items():\n",
    "    mean = v.mean()\n",
    "    std = v.std()\n",
    "    new_v = (v - mean)/std\n",
    "    new_v = new_v.to_numpy()\n",
    "    periodic_data[k] = new_v"
   ]
  },
  {
   "cell_type": "code",
   "execution_count": null,
   "metadata": {},
   "outputs": [],
   "source": [
    "for k, v in periodic_data.items():\n",
    "    plt.figure()\n",
    "    plt.plot(v)\n",
    "    plt.title(\"Non-Stationary Time-sereis\")\n",
    "    plt.show()"
   ]
  },
  {
   "cell_type": "code",
   "execution_count": null,
   "metadata": {},
   "outputs": [],
   "source": [
    "for k,v in periodic_data.items():\n",
    "    print(len(v))"
   ]
  },
  {
   "cell_type": "code",
   "execution_count": null,
   "metadata": {},
   "outputs": [],
   "source": [
    "# Visualization parameter\n",
    "plt.figure()\n",
    "for k, v in periodic_data.items():\n",
    "    sns.kdeplot(v, linewidth=2, label=k)\n",
    "plt.legend()\n",
    "plt.title(\"Non-Stationary Time-Series Periodic Distribution\")\n",
    "plt.show()\n"
   ]
  },
  {
   "cell_type": "code",
   "execution_count": null,
   "metadata": {},
   "outputs": [],
   "source": [
    "stock_df = fdr.DataReader(\"AAPL, MSFT, NVDA, AMZN, COST\", \"20000101\", \"20231231\")"
   ]
  },
  {
   "cell_type": "code",
   "execution_count": null,
   "metadata": {},
   "outputs": [],
   "source": [
    "stock_df = stock_df - stock_df.shift(1)"
   ]
  },
  {
   "cell_type": "code",
   "execution_count": null,
   "metadata": {},
   "outputs": [],
   "source": [
    "stock_df.dropna(inplace=True)"
   ]
  },
  {
   "cell_type": "code",
   "execution_count": null,
   "metadata": {},
   "outputs": [],
   "source": [
    "mean = stock_df.rolling(23).mean()\n",
    "std = stock_df.rolling(23).std()\n",
    "data_1 = stock_df.shift(-1)\n",
    "new_v = (data_1 - mean)/std\n",
    "new_v.dropna(inplace=True)\n",
    "new_v = new_v.to_numpy()\n"
   ]
  },
  {
   "cell_type": "code",
   "execution_count": null,
   "metadata": {},
   "outputs": [],
   "source": [
    "plt.plot(new_v[:,0])\n",
    "plt.title(\"Stationary Transformed Time-Series\")\n"
   ]
  },
  {
   "cell_type": "code",
   "execution_count": null,
   "metadata": {},
   "outputs": [],
   "source": [
    "period = int(len(stock_df)/5)\n",
    "periodic_data = {}\n",
    "for i in range(5):\n",
    "    periodic_data[f\"p_{i+1}\"] = stock_df.iloc[i*period:(i+1)*period, 0]\n",
    "\n",
    "for k, v in periodic_data.items():\n",
    "    mean = v.rolling(23).mean()\n",
    "    std = v.rolling(23).std()\n",
    "    data_1 = v.shift(-1)\n",
    "    new_v = (data_1 - mean)/std\n",
    "    new_v.dropna(inplace=True)\n",
    "    new_v = new_v.to_numpy()\n",
    "    periodic_data[k] = new_v\n"
   ]
  },
  {
   "cell_type": "code",
   "execution_count": null,
   "metadata": {},
   "outputs": [],
   "source": [
    "for k, v in periodic_data.items():\n",
    "    plt.figure()\n",
    "    plt.plot(v)\n",
    "    plt.title(\"Stationary Time-sereis\")\n",
    "    plt.show()"
   ]
  },
  {
   "cell_type": "code",
   "execution_count": null,
   "metadata": {},
   "outputs": [],
   "source": [
    "# Visualization parameter\n",
    "plt.figure()\n",
    "for k, v in periodic_data.items():\n",
    "    sns.kdeplot(v, linewidth=2, label=k)\n",
    "plt.legend()\n",
    "plt.title(\"Stationary Time-Series Periodic Distribution\")\n",
    "plt.show()\n"
   ]
  },
  {
   "cell_type": "code",
   "execution_count": null,
   "metadata": {},
   "outputs": [],
   "source": [
    "sample_ratio = [0.1, 0.3, 0.5, 0.7, 1, 2, 5, 10]\n",
    "stock_mae = [1.3165, 1.1419, 1.1355, 1.1235, 1.1083, 1.1307, 1.1418, 1.1766]\n",
    "stock_mse = [2.5990, 1.8745, 1.9729, 1.8681, 1.8284, 1.8876, 1.8931, 2.0616]"
   ]
  },
  {
   "cell_type": "code",
   "execution_count": null,
   "metadata": {},
   "outputs": [],
   "source": [
    "import matplotlib.pyplot as plt\n",
    "plt.figure()\n",
    "plt.plot(sample_ratio, stock_mae, marker=\"o\")\n",
    "# plt.plot(sample_ratio, stock_mse)"
   ]
  },
  {
   "cell_type": "code",
   "execution_count": null,
   "metadata": {},
   "outputs": [],
   "source": [
    "sample_ratio = [0.1, 0.3, 0.5, 0.7, 1, 2, 5, 10]\n",
    "stock_mse = [-0.3099, -.5022, -.4761, -.5039, -.5145, -.4988, -.4973, -.4525]\n",
    "exchange_mse = [-.3021, -0.3054, -.2998, -.3287, -.3255, -.2993, -.3300, -.3225]\n",
    "etth_mse = [-.3695, -0.3425, -.3662, -.3695, -.3728, -.3643, -.3291, -.2371]\n",
    "import matplotlib.pyplot as plt\n",
    "import numpy as np\n",
    "plt.figure()\n",
    "ticks = [0.5, 1, 2, 5, 10]\n",
    "plt.xticks(ticks)\n",
    "\n",
    "plt.plot(sample_ratio, stock_mse, marker=\"o\", label=\"stock\")\n",
    "plt.plot(sample_ratio, exchange_mse, marker=\"o\", label=\"exchange\")\n",
    "plt.plot(sample_ratio, etth_mse, marker=\"o\", label=\"etth\")\n",
    "plt.ylabel(\"RMSE Reduction\")\n",
    "plt.xlabel(\"Additional Data Ratio\")\n",
    "plt.legend()\n",
    "plt.grid(True)"
   ]
  },
  {
   "cell_type": "code",
   "execution_count": null,
   "metadata": {},
   "outputs": [],
   "source": [
    "sample_ratio = [0.1, 0.3, 0.5, 0.7, 1, 2, 5, 10]\n",
    "stock_mse = [-0.2582, -.3566, -.3602, -.3669, -.3755, -.3628, -.3566, -.3370]\n",
    "exchange_mse = [-.2158, -0.2348, -.2277, -.2459, -.2405, -.2213, -.2371, -.2469]\n",
    "etth_mse = [-.2419, -0.2123, -.2377, -.2377, -.2424, -.2310, -.2050, -.1394]\n",
    "import matplotlib.pyplot as plt\n",
    "import numpy as np\n",
    "plt.figure()\n",
    "ticks = [0.5, 1, 2, 5, 10]\n",
    "plt.xticks(ticks)\n",
    "\n",
    "plt.plot(sample_ratio, stock_mse, marker=\"o\", label=\"stock\")\n",
    "plt.plot(sample_ratio, exchange_mse, marker=\"o\", label=\"exchange\")\n",
    "plt.plot(sample_ratio, etth_mse, marker=\"o\", label=\"etth\")\n",
    "plt.ylabel(\"MAE Reduction\")\n",
    "plt.xlabel(\"Additional Data Ratio\")\n",
    "plt.legend()\n",
    "plt.grid(True)"
   ]
  },
  {
   "cell_type": "markdown",
   "metadata": {},
   "source": []
  }
 ],
 "metadata": {
  "kernelspec": {
   "display_name": ".venv",
   "language": "python",
   "name": "python3"
  },
  "language_info": {
   "codemirror_mode": {
    "name": "ipython",
    "version": 3
   },
   "file_extension": ".py",
   "mimetype": "text/x-python",
   "name": "python",
   "nbconvert_exporter": "python",
   "pygments_lexer": "ipython3",
   "version": "3.12.1"
  }
 },
 "nbformat": 4,
 "nbformat_minor": 2
}
