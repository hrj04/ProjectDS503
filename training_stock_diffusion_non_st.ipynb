{
 "cells": [
  {
   "cell_type": "code",
   "execution_count": null,
   "id": "aee614b9",
   "metadata": {
    "execution": {
     "iopub.execute_input": "2024-05-30T19:35:20.831890Z",
     "iopub.status.busy": "2024-05-30T19:35:20.831739Z",
     "iopub.status.idle": "2024-05-30T19:35:21.790395Z",
     "shell.execute_reply": "2024-05-30T19:35:21.790022Z"
    },
    "papermill": {
     "duration": 0.965714,
     "end_time": "2024-05-30T19:35:21.791306",
     "exception": false,
     "start_time": "2024-05-30T19:35:20.825592",
     "status": "completed"
    },
    "tags": []
   },
   "outputs": [],
   "source": [
    "import torch\n",
    "import warnings\n",
    "\n",
    "from models.solver import Trainer\n",
    "from data.dataloader import dataloader_info\n",
    "from utils.utils import load_yaml_config, instantiate_from_config\n",
    "\n",
    "warnings.filterwarnings(\"ignore\")\n",
    "device = \"cuda\" if torch.cuda.is_available() else \"cpu\""
   ]
  },
  {
   "cell_type": "code",
   "execution_count": null,
   "id": "f39be875",
   "metadata": {
    "execution": {
     "iopub.execute_input": "2024-05-30T19:35:21.800930Z",
     "iopub.status.busy": "2024-05-30T19:35:21.800744Z",
     "iopub.status.idle": "2024-05-30T19:35:21.967344Z",
     "shell.execute_reply": "2024-05-30T19:35:21.966984Z"
    },
    "papermill": {
     "duration": 0.176118,
     "end_time": "2024-05-30T19:35:21.968224",
     "exception": false,
     "start_time": "2024-05-30T19:35:21.792106",
     "status": "completed"
    },
    "tags": []
   },
   "outputs": [],
   "source": [
    "# Load configurations\n",
    "configs = load_yaml_config(\"configs/exp1_stock_non_st.yaml\")\n",
    "\n",
    "# Initialize Diffusion_TS Model\n",
    "diffusion = instantiate_from_config(configs['model']).to(device)"
   ]
  },
  {
   "cell_type": "code",
   "execution_count": null,
   "id": "5d4573f3",
   "metadata": {
    "execution": {
     "iopub.execute_input": "2024-05-30T19:35:21.977831Z",
     "iopub.status.busy": "2024-05-30T19:35:21.977687Z",
     "iopub.status.idle": "2024-05-30T19:35:25.478092Z",
     "shell.execute_reply": "2024-05-30T19:35:25.477807Z"
    },
    "papermill": {
     "duration": 3.510231,
     "end_time": "2024-05-30T19:35:25.479241",
     "exception": false,
     "start_time": "2024-05-30T19:35:21.969010",
     "status": "completed"
    },
    "tags": []
   },
   "outputs": [],
   "source": [
    "# load train dataloader\n",
    "dl_info_train = dataloader_info(configs, train=True)\n",
    "dl_train = dl_info_train[\"dataloader\"]\n",
    "ds_train = dl_info_train[\"dataset\"]"
   ]
  },
  {
   "cell_type": "code",
   "execution_count": null,
   "id": "73625858",
   "metadata": {
    "execution": {
     "iopub.execute_input": "2024-05-30T19:35:25.484242Z",
     "iopub.status.busy": "2024-05-30T19:35:25.484051Z",
     "iopub.status.idle": "2024-05-30T19:35:28.835363Z",
     "shell.execute_reply": "2024-05-30T19:35:28.835087Z"
    },
    "papermill": {
     "duration": 3.355977,
     "end_time": "2024-05-30T19:35:28.836499",
     "exception": false,
     "start_time": "2024-05-30T19:35:25.480522",
     "status": "completed"
    },
    "tags": []
   },
   "outputs": [],
   "source": [
    "# load test dataloader\n",
    "dl_info_test = dataloader_info(configs, train=False)\n",
    "dl_test = dl_info_test[\"dataloader\"]\n",
    "ds_test = dl_info_test[\"dataset\"]"
   ]
  },
  {
   "cell_type": "code",
   "execution_count": null,
   "id": "3aff88f9",
   "metadata": {
    "execution": {
     "iopub.execute_input": "2024-05-30T19:35:28.841986Z",
     "iopub.status.busy": "2024-05-30T19:35:28.841837Z",
     "iopub.status.idle": "2024-05-30T19:45:33.315371Z",
     "shell.execute_reply": "2024-05-30T19:45:33.315134Z"
    },
    "papermill": {
     "duration": 604.478224,
     "end_time": "2024-05-30T19:45:33.315996",
     "exception": false,
     "start_time": "2024-05-30T19:35:28.837772",
     "status": "completed"
    },
    "tags": []
   },
   "outputs": [],
   "source": [
    "# Train DiffusionTS\n",
    "\n",
    "trainer = Trainer(config_solver=configs[\"solver\"], model=diffusion, dataloader=dl_train)\n",
    "trainer.train()"
   ]
  },
  {
   "cell_type": "code",
   "execution_count": null,
   "id": "258c0d43",
   "metadata": {
    "papermill": {
     "duration": 0.468421,
     "end_time": "2024-05-30T19:45:34.254622",
     "exception": false,
     "start_time": "2024-05-30T19:45:33.786201",
     "status": "completed"
    },
    "tags": []
   },
   "outputs": [],
   "source": []
  }
 ],
 "metadata": {
  "kernelspec": {
   "display_name": ".venv",
   "language": "python",
   "name": "python3"
  },
  "language_info": {
   "codemirror_mode": {
    "name": "ipython",
    "version": 3
   },
   "file_extension": ".py",
   "mimetype": "text/x-python",
   "name": "python",
   "nbconvert_exporter": "python",
   "pygments_lexer": "ipython3",
   "version": "3.12.1"
  },
  "papermill": {
   "default_parameters": {},
   "duration": 615.311735,
   "end_time": "2024-05-30T19:45:35.338942",
   "environment_variables": {},
   "exception": null,
   "input_path": "training_stock_diffusion_non_st.ipynb",
   "output_path": "training_stock_diffusion_non_st.ipynb",
   "parameters": {},
   "start_time": "2024-05-30T19:35:20.027207",
   "version": "2.6.0"
  }
 },
 "nbformat": 4,
 "nbformat_minor": 5
}
